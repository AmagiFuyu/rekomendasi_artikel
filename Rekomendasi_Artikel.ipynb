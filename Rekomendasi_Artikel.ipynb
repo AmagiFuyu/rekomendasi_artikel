{
  "nbformat": 4,
  "nbformat_minor": 0,
  "metadata": {
    "colab": {
      "provenance": []
    },
    "kernelspec": {
      "name": "python3",
      "display_name": "Python 3"
    },
    "language_info": {
      "name": "python"
    }
  },
  "cells": [
    {
      "cell_type": "markdown",
      "source": [
        "# Sistem Rekomendasi Artikel Menggunakan Content-Based Filtering\n",
        "# 1. Pendahuluan\n",
        "Notebook ini berisi implementasi sistem rekomendasi artikel menggunakan pendekatan Content-Based Filtering.\n",
        "Pendekatan ini bekerja dengan cara merekomendasikan artikel yang memiliki kemiripan konten dengan artikel yang telah dibaca pengguna.\n",
        "Dataset diambil dari Kaggle: https://www.kaggle.com/datasets/jainilcoder/article-recommendation-system"
      ],
      "metadata": {
        "id": "ZfKGa84G9hcl"
      }
    },
    {
      "cell_type": "markdown",
      "source": [
        "# 2. Import Library\n",
        "Tahap ini mengimpor seluruh pustaka yang dibutuhkan, seperti pandas untuk manipulasi data,\n",
        "nltk untuk preprocessing teks, dan scikit-learn untuk vektorisasi serta penghitungan kemiripan antar dokumen."
      ],
      "metadata": {
        "id": "riVT68Ti9wRD"
      }
    },
    {
      "cell_type": "code",
      "execution_count": 1,
      "metadata": {
        "id": "iGY6SuNv9KZw"
      },
      "outputs": [],
      "source": [
        "import pandas as pd\n",
        "import numpy as np\n",
        "import matplotlib.pyplot as plt\n",
        "import seaborn as sns\n",
        "import nltk\n",
        "import string\n",
        "from sklearn.feature_extraction.text import TfidfVectorizer\n",
        "from sklearn.metrics.pairwise import cosine_similarity\n",
        "from nltk.corpus import stopwords\n",
        "from nltk.stem import PorterStemmer\n",
        "import re\n"
      ]
    },
    {
      "cell_type": "markdown",
      "source": [
        "## Download NLTK\n",
        "Mendownload korpus \"stopwords\" dari library NLTK"
      ],
      "metadata": {
        "id": "lcKeUn35BKeK"
      }
    },
    {
      "cell_type": "code",
      "source": [
        "nltk.download('stopwords')"
      ],
      "metadata": {
        "id": "aKk7rEPLBNEG",
        "colab": {
          "base_uri": "https://localhost:8080/"
        },
        "outputId": "723127ec-2aa6-4c80-e9b8-d329a69d5715"
      },
      "execution_count": 2,
      "outputs": [
        {
          "output_type": "stream",
          "name": "stderr",
          "text": [
            "[nltk_data] Downloading package stopwords to /root/nltk_data...\n",
            "[nltk_data]   Unzipping corpora/stopwords.zip.\n"
          ]
        },
        {
          "output_type": "execute_result",
          "data": {
            "text/plain": [
              "True"
            ]
          },
          "metadata": {},
          "execution_count": 2
        }
      ]
    },
    {
      "cell_type": "markdown",
      "source": [
        "# 3. Load Dataset\n",
        "Memuat Dataset Artikel, Struktur dataset terdiri dari dua kolom utama:\n",
        "\n",
        "1. `'Titles'`\n",
        "\n",
        "2. `'Article'.`"
      ],
      "metadata": {
        "id": "2qlqX2Ha97AM"
      }
    },
    {
      "cell_type": "code",
      "source": [
        "df = pd.read_csv('articles.csv', encoding='latin1')\n",
        "df.head()"
      ],
      "metadata": {
        "id": "qraK7F_O-uSi",
        "colab": {
          "base_uri": "https://localhost:8080/",
          "height": 206
        },
        "outputId": "dccdd1f1-7112-4101-f8aa-00ba3669db33"
      },
      "execution_count": 8,
      "outputs": [
        {
          "output_type": "execute_result",
          "data": {
            "text/plain": [
              "                                             Article  \\\n",
              "0  Data analysis is the process of inspecting and...   \n",
              "1  The performance of a machine learning algorith...   \n",
              "2  You must have seen the news divided into categ...   \n",
              "3  When there are only two classes in a classific...   \n",
              "4  The Multinomial Naive Bayes is one of the vari...   \n",
              "\n",
              "                                               Title  \n",
              "0                  Best Books to Learn Data Analysis  \n",
              "1         Assumptions of Machine Learning Algorithms  \n",
              "2          News Classification with Machine Learning  \n",
              "3  Multiclass Classification Algorithms in Machin...  \n",
              "4        Multinomial Naive Bayes in Machine Learning  "
            ],
            "text/html": [
              "\n",
              "  <div id=\"df-2e53b9af-c359-44b4-a7bd-7149cb72fb64\" class=\"colab-df-container\">\n",
              "    <div>\n",
              "<style scoped>\n",
              "    .dataframe tbody tr th:only-of-type {\n",
              "        vertical-align: middle;\n",
              "    }\n",
              "\n",
              "    .dataframe tbody tr th {\n",
              "        vertical-align: top;\n",
              "    }\n",
              "\n",
              "    .dataframe thead th {\n",
              "        text-align: right;\n",
              "    }\n",
              "</style>\n",
              "<table border=\"1\" class=\"dataframe\">\n",
              "  <thead>\n",
              "    <tr style=\"text-align: right;\">\n",
              "      <th></th>\n",
              "      <th>Article</th>\n",
              "      <th>Title</th>\n",
              "    </tr>\n",
              "  </thead>\n",
              "  <tbody>\n",
              "    <tr>\n",
              "      <th>0</th>\n",
              "      <td>Data analysis is the process of inspecting and...</td>\n",
              "      <td>Best Books to Learn Data Analysis</td>\n",
              "    </tr>\n",
              "    <tr>\n",
              "      <th>1</th>\n",
              "      <td>The performance of a machine learning algorith...</td>\n",
              "      <td>Assumptions of Machine Learning Algorithms</td>\n",
              "    </tr>\n",
              "    <tr>\n",
              "      <th>2</th>\n",
              "      <td>You must have seen the news divided into categ...</td>\n",
              "      <td>News Classification with Machine Learning</td>\n",
              "    </tr>\n",
              "    <tr>\n",
              "      <th>3</th>\n",
              "      <td>When there are only two classes in a classific...</td>\n",
              "      <td>Multiclass Classification Algorithms in Machin...</td>\n",
              "    </tr>\n",
              "    <tr>\n",
              "      <th>4</th>\n",
              "      <td>The Multinomial Naive Bayes is one of the vari...</td>\n",
              "      <td>Multinomial Naive Bayes in Machine Learning</td>\n",
              "    </tr>\n",
              "  </tbody>\n",
              "</table>\n",
              "</div>\n",
              "    <div class=\"colab-df-buttons\">\n",
              "\n",
              "  <div class=\"colab-df-container\">\n",
              "    <button class=\"colab-df-convert\" onclick=\"convertToInteractive('df-2e53b9af-c359-44b4-a7bd-7149cb72fb64')\"\n",
              "            title=\"Convert this dataframe to an interactive table.\"\n",
              "            style=\"display:none;\">\n",
              "\n",
              "  <svg xmlns=\"http://www.w3.org/2000/svg\" height=\"24px\" viewBox=\"0 -960 960 960\">\n",
              "    <path d=\"M120-120v-720h720v720H120Zm60-500h600v-160H180v160Zm220 220h160v-160H400v160Zm0 220h160v-160H400v160ZM180-400h160v-160H180v160Zm440 0h160v-160H620v160ZM180-180h160v-160H180v160Zm440 0h160v-160H620v160Z\"/>\n",
              "  </svg>\n",
              "    </button>\n",
              "\n",
              "  <style>\n",
              "    .colab-df-container {\n",
              "      display:flex;\n",
              "      gap: 12px;\n",
              "    }\n",
              "\n",
              "    .colab-df-convert {\n",
              "      background-color: #E8F0FE;\n",
              "      border: none;\n",
              "      border-radius: 50%;\n",
              "      cursor: pointer;\n",
              "      display: none;\n",
              "      fill: #1967D2;\n",
              "      height: 32px;\n",
              "      padding: 0 0 0 0;\n",
              "      width: 32px;\n",
              "    }\n",
              "\n",
              "    .colab-df-convert:hover {\n",
              "      background-color: #E2EBFA;\n",
              "      box-shadow: 0px 1px 2px rgba(60, 64, 67, 0.3), 0px 1px 3px 1px rgba(60, 64, 67, 0.15);\n",
              "      fill: #174EA6;\n",
              "    }\n",
              "\n",
              "    .colab-df-buttons div {\n",
              "      margin-bottom: 4px;\n",
              "    }\n",
              "\n",
              "    [theme=dark] .colab-df-convert {\n",
              "      background-color: #3B4455;\n",
              "      fill: #D2E3FC;\n",
              "    }\n",
              "\n",
              "    [theme=dark] .colab-df-convert:hover {\n",
              "      background-color: #434B5C;\n",
              "      box-shadow: 0px 1px 3px 1px rgba(0, 0, 0, 0.15);\n",
              "      filter: drop-shadow(0px 1px 2px rgba(0, 0, 0, 0.3));\n",
              "      fill: #FFFFFF;\n",
              "    }\n",
              "  </style>\n",
              "\n",
              "    <script>\n",
              "      const buttonEl =\n",
              "        document.querySelector('#df-2e53b9af-c359-44b4-a7bd-7149cb72fb64 button.colab-df-convert');\n",
              "      buttonEl.style.display =\n",
              "        google.colab.kernel.accessAllowed ? 'block' : 'none';\n",
              "\n",
              "      async function convertToInteractive(key) {\n",
              "        const element = document.querySelector('#df-2e53b9af-c359-44b4-a7bd-7149cb72fb64');\n",
              "        const dataTable =\n",
              "          await google.colab.kernel.invokeFunction('convertToInteractive',\n",
              "                                                    [key], {});\n",
              "        if (!dataTable) return;\n",
              "\n",
              "        const docLinkHtml = 'Like what you see? Visit the ' +\n",
              "          '<a target=\"_blank\" href=https://colab.research.google.com/notebooks/data_table.ipynb>data table notebook</a>'\n",
              "          + ' to learn more about interactive tables.';\n",
              "        element.innerHTML = '';\n",
              "        dataTable['output_type'] = 'display_data';\n",
              "        await google.colab.output.renderOutput(dataTable, element);\n",
              "        const docLink = document.createElement('div');\n",
              "        docLink.innerHTML = docLinkHtml;\n",
              "        element.appendChild(docLink);\n",
              "      }\n",
              "    </script>\n",
              "  </div>\n",
              "\n",
              "\n",
              "    <div id=\"df-52d7b40d-4f9e-47bf-8bd2-62a1029c6013\">\n",
              "      <button class=\"colab-df-quickchart\" onclick=\"quickchart('df-52d7b40d-4f9e-47bf-8bd2-62a1029c6013')\"\n",
              "                title=\"Suggest charts\"\n",
              "                style=\"display:none;\">\n",
              "\n",
              "<svg xmlns=\"http://www.w3.org/2000/svg\" height=\"24px\"viewBox=\"0 0 24 24\"\n",
              "     width=\"24px\">\n",
              "    <g>\n",
              "        <path d=\"M19 3H5c-1.1 0-2 .9-2 2v14c0 1.1.9 2 2 2h14c1.1 0 2-.9 2-2V5c0-1.1-.9-2-2-2zM9 17H7v-7h2v7zm4 0h-2V7h2v10zm4 0h-2v-4h2v4z\"/>\n",
              "    </g>\n",
              "</svg>\n",
              "      </button>\n",
              "\n",
              "<style>\n",
              "  .colab-df-quickchart {\n",
              "      --bg-color: #E8F0FE;\n",
              "      --fill-color: #1967D2;\n",
              "      --hover-bg-color: #E2EBFA;\n",
              "      --hover-fill-color: #174EA6;\n",
              "      --disabled-fill-color: #AAA;\n",
              "      --disabled-bg-color: #DDD;\n",
              "  }\n",
              "\n",
              "  [theme=dark] .colab-df-quickchart {\n",
              "      --bg-color: #3B4455;\n",
              "      --fill-color: #D2E3FC;\n",
              "      --hover-bg-color: #434B5C;\n",
              "      --hover-fill-color: #FFFFFF;\n",
              "      --disabled-bg-color: #3B4455;\n",
              "      --disabled-fill-color: #666;\n",
              "  }\n",
              "\n",
              "  .colab-df-quickchart {\n",
              "    background-color: var(--bg-color);\n",
              "    border: none;\n",
              "    border-radius: 50%;\n",
              "    cursor: pointer;\n",
              "    display: none;\n",
              "    fill: var(--fill-color);\n",
              "    height: 32px;\n",
              "    padding: 0;\n",
              "    width: 32px;\n",
              "  }\n",
              "\n",
              "  .colab-df-quickchart:hover {\n",
              "    background-color: var(--hover-bg-color);\n",
              "    box-shadow: 0 1px 2px rgba(60, 64, 67, 0.3), 0 1px 3px 1px rgba(60, 64, 67, 0.15);\n",
              "    fill: var(--button-hover-fill-color);\n",
              "  }\n",
              "\n",
              "  .colab-df-quickchart-complete:disabled,\n",
              "  .colab-df-quickchart-complete:disabled:hover {\n",
              "    background-color: var(--disabled-bg-color);\n",
              "    fill: var(--disabled-fill-color);\n",
              "    box-shadow: none;\n",
              "  }\n",
              "\n",
              "  .colab-df-spinner {\n",
              "    border: 2px solid var(--fill-color);\n",
              "    border-color: transparent;\n",
              "    border-bottom-color: var(--fill-color);\n",
              "    animation:\n",
              "      spin 1s steps(1) infinite;\n",
              "  }\n",
              "\n",
              "  @keyframes spin {\n",
              "    0% {\n",
              "      border-color: transparent;\n",
              "      border-bottom-color: var(--fill-color);\n",
              "      border-left-color: var(--fill-color);\n",
              "    }\n",
              "    20% {\n",
              "      border-color: transparent;\n",
              "      border-left-color: var(--fill-color);\n",
              "      border-top-color: var(--fill-color);\n",
              "    }\n",
              "    30% {\n",
              "      border-color: transparent;\n",
              "      border-left-color: var(--fill-color);\n",
              "      border-top-color: var(--fill-color);\n",
              "      border-right-color: var(--fill-color);\n",
              "    }\n",
              "    40% {\n",
              "      border-color: transparent;\n",
              "      border-right-color: var(--fill-color);\n",
              "      border-top-color: var(--fill-color);\n",
              "    }\n",
              "    60% {\n",
              "      border-color: transparent;\n",
              "      border-right-color: var(--fill-color);\n",
              "    }\n",
              "    80% {\n",
              "      border-color: transparent;\n",
              "      border-right-color: var(--fill-color);\n",
              "      border-bottom-color: var(--fill-color);\n",
              "    }\n",
              "    90% {\n",
              "      border-color: transparent;\n",
              "      border-bottom-color: var(--fill-color);\n",
              "    }\n",
              "  }\n",
              "</style>\n",
              "\n",
              "      <script>\n",
              "        async function quickchart(key) {\n",
              "          const quickchartButtonEl =\n",
              "            document.querySelector('#' + key + ' button');\n",
              "          quickchartButtonEl.disabled = true;  // To prevent multiple clicks.\n",
              "          quickchartButtonEl.classList.add('colab-df-spinner');\n",
              "          try {\n",
              "            const charts = await google.colab.kernel.invokeFunction(\n",
              "                'suggestCharts', [key], {});\n",
              "          } catch (error) {\n",
              "            console.error('Error during call to suggestCharts:', error);\n",
              "          }\n",
              "          quickchartButtonEl.classList.remove('colab-df-spinner');\n",
              "          quickchartButtonEl.classList.add('colab-df-quickchart-complete');\n",
              "        }\n",
              "        (() => {\n",
              "          let quickchartButtonEl =\n",
              "            document.querySelector('#df-52d7b40d-4f9e-47bf-8bd2-62a1029c6013 button');\n",
              "          quickchartButtonEl.style.display =\n",
              "            google.colab.kernel.accessAllowed ? 'block' : 'none';\n",
              "        })();\n",
              "      </script>\n",
              "    </div>\n",
              "\n",
              "    </div>\n",
              "  </div>\n"
            ],
            "application/vnd.google.colaboratory.intrinsic+json": {
              "type": "dataframe",
              "variable_name": "df",
              "summary": "{\n  \"name\": \"df\",\n  \"rows\": 34,\n  \"fields\": [\n    {\n      \"column\": \"Article\",\n      \"properties\": {\n        \"dtype\": \"string\",\n        \"num_unique_values\": 33,\n        \"samples\": [\n          \"In machine learning, the Naive Bayes algorithm is based on Bayes' theorem with na\\u008bve assumptions. This makes it easier to train a model by assuming that the features are independent of each other. In this article, I will give you an introduction to the Naive Bayes algorithm in Machine Learning and its implementation using Python.\",\n          \"A neural network is a subset of machine learning that mimics the workings of a human brain while solving a complex problem based on deep learning. Neural networks are inspired by neurons found in the human brain. In this article, I'm going to introduce you to the types of neural networks you need to know as a Data Scientist.\",\n          \"Apple has just announced the date of its September event when it is about to launch the new iPhone 13. It is currently the centre of attention on the stock market. Stock market analysis is one of the popular applications of machine learning because we can predict stock prices using machine learning. So if you want to learn how to predict the stock prices of Apple with machine learning, this article is for you. In this article, I will walk you through the task of Apple stock price prediction with machine learning using Python.\"\n        ],\n        \"semantic_type\": \"\",\n        \"description\": \"\"\n      }\n    },\n    {\n      \"column\": \"Title\",\n      \"properties\": {\n        \"dtype\": \"string\",\n        \"num_unique_values\": 33,\n        \"samples\": [\n          \"Naive Bayes Algorithm in Machine Learning\",\n          \"Types of Neural Networks\",\n          \"Apple Stock Price Prediction with Machine Learning\"\n        ],\n        \"semantic_type\": \"\",\n        \"description\": \"\"\n      }\n    }\n  ]\n}"
            }
          },
          "metadata": {},
          "execution_count": 8
        }
      ]
    },
    {
      "cell_type": "markdown",
      "source": [
        "# 4. Explatory Data Analysis (EDA)"
      ],
      "metadata": {
        "id": "OPdQeApx_lq7"
      }
    },
    {
      "cell_type": "markdown",
      "source": [
        "## Melihat Informasi Data\n",
        " Menampilkan ringkasan informasi DataFrame, termasuk tipe data dan jumlah nilai non-null."
      ],
      "metadata": {
        "id": "UbgRTOIp_s6k"
      }
    },
    {
      "cell_type": "code",
      "source": [
        "print(df.info())"
      ],
      "metadata": {
        "id": "lZ1R3gHp_jUD",
        "colab": {
          "base_uri": "https://localhost:8080/"
        },
        "outputId": "9f95c967-6845-4ab5-8eed-f0f151c37916"
      },
      "execution_count": 9,
      "outputs": [
        {
          "output_type": "stream",
          "name": "stdout",
          "text": [
            "<class 'pandas.core.frame.DataFrame'>\n",
            "RangeIndex: 34 entries, 0 to 33\n",
            "Data columns (total 2 columns):\n",
            " #   Column   Non-Null Count  Dtype \n",
            "---  ------   --------------  ----- \n",
            " 0   Article  34 non-null     object\n",
            " 1   Title    34 non-null     object\n",
            "dtypes: object(2)\n",
            "memory usage: 676.0+ bytes\n",
            "None\n"
          ]
        }
      ]
    },
    {
      "cell_type": "markdown",
      "source": [
        "## Menangani Missing Values\n",
        "Menghitung dan menampilkan jumlah nilai yang hilang (NaN) di setiap kolom DataFrame."
      ],
      "metadata": {
        "id": "cmAHhd7t_1jV"
      }
    },
    {
      "cell_type": "code",
      "source": [
        "print(df.isnull().sum())"
      ],
      "metadata": {
        "id": "DGomyOd9_08r",
        "colab": {
          "base_uri": "https://localhost:8080/"
        },
        "outputId": "a583db30-cef7-4c8c-d5c3-52f2446c9a1e"
      },
      "execution_count": 10,
      "outputs": [
        {
          "output_type": "stream",
          "name": "stdout",
          "text": [
            "Article    0\n",
            "Title      0\n",
            "dtype: int64\n"
          ]
        }
      ]
    },
    {
      "cell_type": "markdown",
      "source": [
        "## Menangani Duplikat\n",
        "Tahapan ini Mengecek Apakah Ada Duplikat, dan bila ada maka duplikasi dihapus"
      ],
      "metadata": {
        "id": "PbIELCITNFQY"
      }
    },
    {
      "cell_type": "code",
      "source": [
        "df.drop_duplicates(inplace=True)\n",
        "print(df.duplicated().sum())"
      ],
      "metadata": {
        "id": "fsumh1GPNH0Y",
        "colab": {
          "base_uri": "https://localhost:8080/"
        },
        "outputId": "154f2a2c-4fe6-466f-d851-9449ca456890"
      },
      "execution_count": 11,
      "outputs": [
        {
          "output_type": "stream",
          "name": "stdout",
          "text": [
            "0\n"
          ]
        }
      ]
    },
    {
      "cell_type": "markdown",
      "source": [
        "## Melihat Sampel\n",
        "Menampilkan 5 Sampel dari DataFrame"
      ],
      "metadata": {
        "id": "5XOn9dl2_7J6"
      }
    },
    {
      "cell_type": "code",
      "source": [
        "print(df.sample(5))"
      ],
      "metadata": {
        "id": "fY4yaCoEAaUa",
        "colab": {
          "base_uri": "https://localhost:8080/"
        },
        "outputId": "ef163e30-c262-4d2e-c68d-f4797bcb6d57"
      },
      "execution_count": 12,
      "outputs": [
        {
          "output_type": "stream",
          "name": "stdout",
          "text": [
            "                                              Article  \\\n",
            "17  Clustering is the task of identifying similar ...   \n",
            "6   Natural language processing or NLP is a subfie...   \n",
            "14  Language detection is a natural language proce...   \n",
            "12  API stands for Application Programming Interfa...   \n",
            "22  Agglomerative clustering is based on hierarchi...   \n",
            "\n",
            "                                           Title  \n",
            "17     Clustering Algorithms in Machine Learning  \n",
            "6                        Best Books to Learn NLP  \n",
            "14      Language Detection with Machine Learning  \n",
            "12          Best Python Frameworks to Build APIs  \n",
            "22  Agglomerative Clustering in Machine Learning  \n"
          ]
        }
      ]
    },
    {
      "cell_type": "markdown",
      "source": [
        "# 5. Preprocessing\n",
        "Tahapan ini bertujuan membersihkan teks dari karakter tidak penting,\n",
        "menghapus stopwords, dan melakukan stemming untuk mendapatkan bentuk kata dasar.\n",
        "Gabungan antara kolom judul dan isi artikel digunakan sebagai basis fitur teks.\n",
        "\"\"\""
      ],
      "metadata": {
        "id": "h6LsuO0CA0wy"
      }
    },
    {
      "cell_type": "code",
      "source": [
        "stop_words = set(stopwords.words('english'))\n",
        "stemmer = PorterStemmer()\n",
        "\n",
        "def preprocess(text):\n",
        "    text = str(text).lower()  # ubah ke huruf kecil\n",
        "    text = re.sub(r'\\d+', '', text)  # hapus angka\n",
        "    text = text.translate(str.maketrans('', '', string.punctuation))  # hapus tanda baca\n",
        "    tokens = text.split()\n",
        "    tokens = [stemmer.stem(word) for word in tokens if word not in stop_words]  # hapus stopwords dan stemming\n",
        "    return ' '.join(tokens)"
      ],
      "metadata": {
        "id": "xw32eyT_A_KH"
      },
      "execution_count": 13,
      "outputs": []
    },
    {
      "cell_type": "markdown",
      "source": [
        "# Menggabungkan judul dan isi artikel\n",
        "menggabungkan kolom `'Titles'` dan `'Article'` menjadi kolom `'text'`. Kemudian, membersihkan teks di kolom `'text'` menggunakan fungsi preprocess dan menyimpannya di kolom `'text_clean'`."
      ],
      "metadata": {
        "id": "oJSy1qNABSDi"
      }
    },
    {
      "cell_type": "code",
      "source": [
        "df['text'] = df['Title'] + \" \" + df['Article']\n",
        "df['text_clean'] = df['text'].apply(preprocess)"
      ],
      "metadata": {
        "id": "ZmF2Ed7TBXoi"
      },
      "execution_count": 14,
      "outputs": []
    },
    {
      "cell_type": "markdown",
      "source": [
        "# 6. Feature Extraction\n",
        " Melakukan Ektraksi Fitur, TF-IDF (Term Frequency-Inverse Document Frequency) digunakan untuk mengubah teks menjadi vektor numerik\n",
        " berdasarkan frekuensi kemunculan kata dalam dokumen relatif terhadap seluruh korpus."
      ],
      "metadata": {
        "id": "c8WgtOxmC53T"
      }
    },
    {
      "cell_type": "code",
      "source": [
        "tfidf = TfidfVectorizer()\n",
        "tfidf_matrix = tfidf.fit_transform(df['text_clean'])"
      ],
      "metadata": {
        "id": "5l09UoSAC8qh"
      },
      "execution_count": 15,
      "outputs": []
    },
    {
      "cell_type": "markdown",
      "source": [
        "# 7. Similarity Calculation\n",
        "Cosine similarity digunakan untuk mengukur tingkat kemiripan antar dua artikel berdasarkan vektor TF-IDF.\n",
        "\n",
        "Nilainya berkisar antara 0 (tidak mirip) hingga 1 (sangat mirip)."
      ],
      "metadata": {
        "id": "VZJ6CtbFDxlj"
      }
    },
    {
      "cell_type": "code",
      "source": [
        "cos_sim = cosine_similarity(tfidf_matrix, tfidf_matrix)"
      ],
      "metadata": {
        "id": "qDZSw7IDDkfS"
      },
      "execution_count": 16,
      "outputs": []
    },
    {
      "cell_type": "markdown",
      "source": [
        "# 8. Rekomendasi Artikel\n",
        "Fungsi get_recommendations menerima indeks artikel dan mengembalikan daftar top-n artikel paling mirip berdasarkan skor cosine similarity. Artikel input akan dilewati dalam hasil."
      ],
      "metadata": {
        "id": "5PJyeBhEE01a"
      }
    },
    {
      "cell_type": "code",
      "source": [
        "def get_recommendations(index, top_n=5):\n",
        "    sim_scores = list(enumerate(cos_sim[index]))\n",
        "    sim_scores = sorted(sim_scores, key=lambda x: x[1], reverse=True)\n",
        "    sim_scores = sim_scores[1:top_n+1]  # Skip artikel itu sendiri\n",
        "    article_indices = [i[0] for i in sim_scores]\n",
        "    return df.iloc[article_indices][['Title']]\n",
        "\n",
        "# Contoh rekomendasi\n",
        "article_id = 3\n",
        "print(\"Artikel utama:\")\n",
        "print(df.iloc[article_id]['Title'])\n",
        "print(\"\\nRekomendasi artikel:\")\n",
        "print(get_recommendations(article_id))\n"
      ],
      "metadata": {
        "id": "Pk6wxCG5Ecd8",
        "colab": {
          "base_uri": "https://localhost:8080/"
        },
        "outputId": "5f2427e7-a68c-484f-c164-f7dbd0d65169"
      },
      "execution_count": 17,
      "outputs": [
        {
          "output_type": "stream",
          "name": "stdout",
          "text": [
            "Artikel utama:\n",
            "Multiclass Classification Algorithms in Machine Learning\n",
            "\n",
            "Rekomendasi artikel:\n",
            "                                                Title\n",
            "17          Clustering Algorithms in Machine Learning\n",
            "31  Use Cases of Different Machine Learning Algori...\n",
            "2           News Classification with Machine Learning\n",
            "28                  Best Books to Learn Deep Learning\n",
            "1          Assumptions of Machine Learning Algorithms\n"
          ]
        }
      ]
    },
    {
      "cell_type": "markdown",
      "source": [
        "# 9. Evaluasi\n",
        "Evaluasi dilakukan dengan cara observasi manual terhadap hasil rekomendasi artikel karena dataset tidak menyediakan label relevansi atau interaksi pengguna.\n",
        "\n",
        "Artikel masukan: \"Multiclass Classification Algorithms in Machine Learning\"\n",
        "\n",
        "Rekomendasi yang dihasilkan:\n",
        "\n",
        "1. Clustering Algorithms in Machine Learning\n",
        "\n",
        "2. Use Cases of Different Machine Learning Algorithms\n",
        "\n",
        "3. News Classification with Machine Learning\n",
        "\n",
        "4. Best Books to Learn Deep Learning\n",
        "\n",
        "5. Assumptions of Machine Learning Algorithms\n",
        "\n",
        "Analisis:\n",
        "\n",
        "* Rekomendasi yang diberikan memiliki topik yang cukup relevan dengan artikel utama.\n",
        "\n",
        "* Beberapa artikel membahas algoritma klasifikasi, penggunaan machine learning, serta pembelajaran mendalam (deep learning).\n",
        "\n",
        "* Hal ini menunjukkan bahwa sistem mengenali kemiripan tema dan topik meskipun tidak menggunakan metadata atau label eksplisit.\n",
        "\n",
        "Keterbatasan:\n",
        "\n",
        "* Karena tidak ada label relevansi atau interaksi pengguna, tidak bisa dihitung metrik seperti Precision@k atau Recall.\n",
        "\n",
        "* Rekomendasi bersifat statis, belum mempertimbangkan preferensi atau histori pengguna.\n",
        "\n",
        "Kesimpulan Evaluasi:\n",
        "\n",
        "1. Rekomendasi yang diberikan cukup relevan dan kontekstual terhadap artikel sumber.\n",
        "\n",
        "2. Evaluasi berbasis pengamatan ini cukup untuk memvalidasi pendekatan content-based filtering pada kasus ini.\n"
      ],
      "metadata": {
        "id": "4vL1kasvFihr"
      }
    },
    {
      "cell_type": "markdown",
      "source": [
        "# 10. Kesimpulan\n",
        "Proyek ini berhasil membangun sistem rekomendasi artikel menggunakan pendekatan Content-Based Filtering\n",
        "berdasarkan kemiripan konten antarartikel. Metode yang digunakan meliputi:\n",
        "\n",
        "- Preprocessing teks: pembersihan teks, penghapusan stopwords, dan stemming.\n",
        "- Ekstraksi fitur: TF-IDF Vectorizer digunakan untuk merepresentasikan artikel dalam bentuk vektor numerik.\n",
        "- Penghitungan kemiripan: cosine similarity menghitung tingkat kemiripan antar artikel.\n",
        "\n",
        "Hasil evaluasi menunjukkan bahwa sistem mampu menghasilkan rekomendasi artikel yang relevan secara tematik dengan artikel acuan. Sebagai contoh, untuk artikel \"Multiclass Classification Algorithms in Machine Learning\",\n",
        "sistem berhasil merekomendasikan artikel lain yang membahas clustering, penggunaan machine learning, dan deep learning,\n",
        "yang masih dalam ranah keilmuan yang sama.\n",
        "\n",
        "Kelebihan:\n",
        "- Tidak memerlukan data interaksi pengguna.\n",
        "\n",
        "- Efektif pada kasus dengan teks deskriptif yang kaya informasi.\n",
        "\n",
        "Keterbatasan:\n",
        "- Rekomendasi bersifat statis dan belum mempertimbangkan preferensi pengguna secara personal.\n",
        "\n",
        "- Tidak tersedia metrik kuantitatif untuk evaluasi (seperti precision@k), karena dataset tidak menyertakan label relevansi.\n",
        "\n",
        "Rekomendasi Pengembangan:\n",
        "- Menggabungkan pendekatan ini dengan metode collaborative filtering jika data pengguna tersedia.\n",
        "\n",
        "- Menyediakan antarmuka input berdasarkan judul artikel untuk kenyamanan pengguna.\n",
        "\n",
        "Dengan pendekatan content-based ini, sistem rekomendasi dapat digunakan sebagai solusi awal yang sederhana namun efektif\n",
        "untuk menyajikan artikel serupa kepada pembaca berdasarkan isi kontennya.\n"
      ],
      "metadata": {
        "id": "Sr1BVq0DGabz"
      }
    }
  ]
}